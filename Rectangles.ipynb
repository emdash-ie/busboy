{
 "cells": [
  {
   "cell_type": "code",
   "execution_count": 1,
   "metadata": {},
   "outputs": [],
   "source": [
    "import ipyleaflet as lf\n",
    "from importlib import reload\n",
    "import shapely.geometry as sg\n",
    "import datetime as dt\n",
    "from collections import defaultdict\n",
    "import time\n",
    "import operator as op\n",
    "import numpy as np\n",
    "import pandas as pd"
   ]
  },
  {
   "cell_type": "code",
   "execution_count": 2,
   "metadata": {},
   "outputs": [
    {
     "name": "stderr",
     "output_type": "stream",
     "text": [
      "/Users/Noel/.local/share/virtualenvs/Busboy-8t8akAoa/lib/python3.7/site-packages/psycopg2/__init__.py:144: UserWarning: The psycopg2 wheel package will be renamed from release 2.8; in order to keep installing from binary please use \"pip install psycopg2-binary\" instead. For details see: <http://initd.org/psycopg/docs/install.html#binary-install-from-pypi>.\n",
      "  \"\"\")\n"
     ]
    },
    {
     "data": {
      "text/plain": [
       "<module 'busboy.util.notebooks' from '/Users/Noel/Developer/Projects/Busboy/busboy/util/notebooks.py'>"
      ]
     },
     "execution_count": 2,
     "metadata": {},
     "output_type": "execute_result"
    }
   ],
   "source": [
    "import busboy.map.map as mp\n",
    "import busboy.constants as c\n",
    "import busboy.util as u\n",
    "import busboy.prediction as p\n",
    "import busboy.database as db\n",
    "import busboy.model as m\n",
    "import busboy.apis as api\n",
    "import busboy.util.notebooks as nb\n",
    "\n",
    "reload(mp)\n",
    "reload(c)\n",
    "reload(u)\n",
    "reload(p)\n",
    "reload(db)\n",
    "reload(m)\n",
    "reload(api)\n",
    "reload(nb)"
   ]
  },
  {
   "cell_type": "code",
   "execution_count": 3,
   "metadata": {},
   "outputs": [
    {
     "ename": "NameError",
     "evalue": "name 'themap' is not defined",
     "output_type": "error",
     "traceback": [
      "\u001b[0;31m---------------------------------------------------------------------------\u001b[0m",
      "\u001b[0;31mNameError\u001b[0m                                 Traceback (most recent call last)",
      "\u001b[0;32m<ipython-input-3-8280f57a89c6>\u001b[0m in \u001b[0;36m<module>\u001b[0;34m\u001b[0m\n\u001b[0;32m----> 1\u001b[0;31m \u001b[0mthemap\u001b[0m\u001b[0;34m.\u001b[0m\u001b[0mclear_layers\u001b[0m\u001b[0;34m(\u001b[0m\u001b[0;34m)\u001b[0m\u001b[0;34m\u001b[0m\u001b[0m\n\u001b[0m",
      "\u001b[0;31mNameError\u001b[0m: name 'themap' is not defined"
     ]
    }
   ],
   "source": [
    "themap.clear_layers()"
   ]
  },
  {
   "cell_type": "code",
   "execution_count": 5,
   "metadata": {},
   "outputs": [],
   "source": [
    "all_stops = db.stops()\n",
    "stops_by_name = {s.name: s for s in all_stops}"
   ]
  },
  {
   "cell_type": "code",
   "execution_count": 6,
   "metadata": {},
   "outputs": [],
   "source": [
    "timetables_220 = list(api.timetables(\"220\", stops_by_name))"
   ]
  },
  {
   "cell_type": "code",
   "execution_count": 65,
   "metadata": {},
   "outputs": [
    {
     "data": {
      "text/plain": [
       "10"
      ]
     },
     "execution_count": 65,
     "metadata": {},
     "output_type": "execute_result"
    }
   ],
   "source": [
    "len(list(u.unique(v for t in timetables_220 for v in t.variants if v.route == \"220\")))"
   ]
  },
  {
   "cell_type": "code",
   "execution_count": 72,
   "metadata": {},
   "outputs": [],
   "source": [
    "timetables_205 = list(api.timetables(\"205\", stops_by_name))"
   ]
  },
  {
   "cell_type": "code",
   "execution_count": 7,
   "metadata": {},
   "outputs": [
    {
     "data": {
      "text/plain": [
       "Just(value=Stop(id=StopId(raw='7338653551722184832'), name='Ovens (Grange Road Terminus)', latitude=51.87648, longitude=-8.64687, number=246671))"
      ]
     },
     "execution_count": 7,
     "metadata": {},
     "output_type": "execute_result"
    }
   ],
   "source": [
    "timetable = u.first(timetables_220)\n",
    "variant = u.first(timetable.optional().variants)\n",
    "variant.bind(lambda v: u.first(v.stops))"
   ]
  },
  {
   "cell_type": "code",
   "execution_count": 73,
   "metadata": {},
   "outputs": [],
   "source": [
    "for v in u.unique(v for t in timetables_205 for v in t.variants if v.route == \"205\"):\n",
    "    plot(v.stops, 0.1)"
   ]
  },
  {
   "cell_type": "code",
   "execution_count": 57,
   "metadata": {},
   "outputs": [],
   "source": [
    "t = timetables_220[-2]\n",
    "plot(list(t.variants)[0].stops, 0.1)"
   ]
  },
  {
   "cell_type": "code",
   "execution_count": 55,
   "metadata": {},
   "outputs": [],
   "source": [
    "def plot(stops, interval):\n",
    "    time.sleep(4)\n",
    "    themap.clear_layers()\n",
    "    for s in stops:\n",
    "        themap._add_marker(s.latitude, s.longitude, s.name)\n",
    "        time.sleep(interval)"
   ]
  },
  {
   "cell_type": "code",
   "execution_count": 67,
   "metadata": {},
   "outputs": [],
   "source": [
    "stops = c.stops_on_220"
   ]
  },
  {
   "cell_type": "code",
   "execution_count": 5,
   "metadata": {},
   "outputs": [],
   "source": [
    "for s in stops:\n",
    "    themap.map.add_layer(\n",
    "        lf.Marker(\n",
    "                location=s.lat_lon,\n",
    "                draggable=False,\n",
    "                title=s.name,\n",
    "            )\n",
    "    )"
   ]
  },
  {
   "cell_type": "code",
   "execution_count": 9,
   "metadata": {},
   "outputs": [
    {
     "ename": "AttributeError",
     "evalue": "'Polygon' object has no attribute 'model_id'",
     "output_type": "error",
     "traceback": [
      "\u001b[0;31m---------------------------------------------------------------------------\u001b[0m",
      "\u001b[0;31mAttributeError\u001b[0m                            Traceback (most recent call last)",
      "\u001b[0;32m<ipython-input-9-e0724e4a184f>\u001b[0m in \u001b[0;36m<module>\u001b[0;34m\u001b[0m\n\u001b[1;32m      1\u001b[0m \u001b[0;32mfor\u001b[0m \u001b[0mr\u001b[0m \u001b[0;32min\u001b[0m \u001b[0mrs\u001b[0m\u001b[0;34m:\u001b[0m\u001b[0;34m\u001b[0m\u001b[0m\n\u001b[0;32m----> 2\u001b[0;31m     \u001b[0mthemap\u001b[0m\u001b[0;34m.\u001b[0m\u001b[0mmap\u001b[0m\u001b[0;34m.\u001b[0m\u001b[0mremove_layer\u001b[0m\u001b[0;34m(\u001b[0m\u001b[0mr\u001b[0m\u001b[0;34m)\u001b[0m\u001b[0;34m\u001b[0m\u001b[0m\n\u001b[0m",
      "\u001b[0;32m~/.local/share/virtualenvs/Busboy-8t8akAoa/lib/python3.7/site-packages/ipyleaflet/leaflet.py\u001b[0m in \u001b[0;36mremove_layer\u001b[0;34m(self, layer)\u001b[0m\n\u001b[1;32m    832\u001b[0m \u001b[0;34m\u001b[0m\u001b[0m\n\u001b[1;32m    833\u001b[0m     \u001b[0;32mdef\u001b[0m \u001b[0mremove_layer\u001b[0m\u001b[0;34m(\u001b[0m\u001b[0mself\u001b[0m\u001b[0;34m,\u001b[0m \u001b[0mlayer\u001b[0m\u001b[0;34m)\u001b[0m\u001b[0;34m:\u001b[0m\u001b[0;34m\u001b[0m\u001b[0m\n\u001b[0;32m--> 834\u001b[0;31m         \u001b[0;32mif\u001b[0m \u001b[0mlayer\u001b[0m\u001b[0;34m.\u001b[0m\u001b[0mmodel_id\u001b[0m \u001b[0;32mnot\u001b[0m \u001b[0;32min\u001b[0m \u001b[0mself\u001b[0m\u001b[0;34m.\u001b[0m\u001b[0m_layer_ids\u001b[0m\u001b[0;34m:\u001b[0m\u001b[0;34m\u001b[0m\u001b[0m\n\u001b[0m\u001b[1;32m    835\u001b[0m             \u001b[0;32mraise\u001b[0m \u001b[0mLayerException\u001b[0m\u001b[0;34m(\u001b[0m\u001b[0;34m'layer not on map: %r'\u001b[0m \u001b[0;34m%\u001b[0m \u001b[0mlayer\u001b[0m\u001b[0;34m)\u001b[0m\u001b[0;34m\u001b[0m\u001b[0m\n\u001b[1;32m    836\u001b[0m         \u001b[0mself\u001b[0m\u001b[0;34m.\u001b[0m\u001b[0mlayers\u001b[0m \u001b[0;34m=\u001b[0m \u001b[0mtuple\u001b[0m\u001b[0;34m(\u001b[0m\u001b[0;34m[\u001b[0m\u001b[0ml\u001b[0m \u001b[0;32mfor\u001b[0m \u001b[0ml\u001b[0m \u001b[0;32min\u001b[0m \u001b[0mself\u001b[0m\u001b[0;34m.\u001b[0m\u001b[0mlayers\u001b[0m \u001b[0;32mif\u001b[0m \u001b[0ml\u001b[0m\u001b[0;34m.\u001b[0m\u001b[0mmodel_id\u001b[0m \u001b[0;34m!=\u001b[0m \u001b[0mlayer\u001b[0m\u001b[0;34m.\u001b[0m\u001b[0mmodel_id\u001b[0m\u001b[0;34m]\u001b[0m\u001b[0;34m)\u001b[0m\u001b[0;34m\u001b[0m\u001b[0m\n",
      "\u001b[0;31mAttributeError\u001b[0m: 'Polygon' object has no attribute 'model_id'"
     ]
    }
   ],
   "source": [
    "for r in rs:\n",
    "    themap.map.remove_layer(r)"
   ]
  },
  {
   "cell_type": "code",
   "execution_count": 68,
   "metadata": {},
   "outputs": [],
   "source": [
    "rs = p.route_sections(stops, 0.001)\n",
    "\n",
    "for r in rs:\n",
    "    themap.add_polygon(r.polygon)"
   ]
  },
  {
   "cell_type": "code",
   "execution_count": 3,
   "metadata": {},
   "outputs": [],
   "source": [
    "entries = db.entries(d = dt.date(2019, 2, 11))\n",
    "\n",
    "entries_by_trip = defaultdict(list)\n",
    "for e in entries:\n",
    "    entries_by_trip[e.trip].append(e)\n",
    "    \n",
    "entries_by_vehicle = defaultdict(list)\n",
    "for e in entries:\n",
    "    entries_by_vehicle[e.vehicle].append(e)"
   ]
  },
  {
   "cell_type": "code",
   "execution_count": 4,
   "metadata": {},
   "outputs": [],
   "source": [
    "rbn = db.routes_by_name()\n",
    "entries_220 = [e for e in entries if e.route == rbn[\"220\"].id]\n",
    "\n",
    "entries_220_by_vehicle = defaultdict(list)\n",
    "for e in entries_220:\n",
    "    entries_220_by_vehicle[e.vehicle].append(e)\n",
    "    \n",
    "entries_220_by_trip = defaultdict(list)\n",
    "for e in entries_220:\n",
    "    entries_220_by_trip[e.trip].append(e)"
   ]
  },
  {
   "cell_type": "code",
   "execution_count": 5,
   "metadata": {},
   "outputs": [],
   "source": [
    "trips = list(map(op.itemgetter(0), sorted(((t, len(v)) for t, v in entries_by_trip.items()), key=op.itemgetter(1), reverse=True)))\n",
    "vehicles = list(map(op.itemgetter(0), sorted(((t, len(v)) for t, v in entries_by_vehicle.items()), key=op.itemgetter(1), reverse=True)))\n",
    "route_ids = {e.route for e in entries}\n",
    "\n",
    "trips_220 = list(map(op.itemgetter(0), sorted(((t, len(v)) for t, v in entries_220_by_trip.items()), key=op.itemgetter(1), reverse=True)))\n",
    "vehicles_220 = list(map(op.itemgetter(0), sorted(((t, len(v)) for t, v in entries_220_by_vehicle.items()), key=op.itemgetter(1), reverse=True)))\n"
   ]
  },
  {
   "cell_type": "code",
   "execution_count": 34,
   "metadata": {},
   "outputs": [
    {
     "data": {
      "text/plain": [
       "(RouteId(raw='7338652709907595695'), RouteId(raw='7338652709907595290'))"
      ]
     },
     "execution_count": 34,
     "metadata": {},
     "output_type": "execute_result"
    }
   ],
   "source": [
    "rs = set(db.routes())\n",
    "rbi = db.routes_by_id()\n",
    "len(rs)\n",
    "list(rbi.items())[0]\n",
    "list(route_ids)[0]\n",
    "m.RouteId(raw='7338652709907595695') in rbi\n",
    "[(r, r in rbi) for r in route_ids]\n",
    "(list(route_ids)[0], list(rbi)[0])"
   ]
  },
  {
   "cell_type": "code",
   "execution_count": 21,
   "metadata": {},
   "outputs": [
    {
     "data": {
      "text/plain": [
       "[None]"
      ]
     },
     "execution_count": 21,
     "metadata": {},
     "output_type": "execute_result"
    }
   ],
   "source": [
    "rbi = db.routes_by_id()\n",
    "routes = {rbi.get(r) for r in route_ids}\n",
    "sorted(routes, key = lambda r: r.name if isinstance(r, m.Route) else \"\")"
   ]
  },
  {
   "cell_type": "code",
   "execution_count": 41,
   "metadata": {},
   "outputs": [],
   "source": [
    "route_entries = [e for e in entries if e.route == m.RouteId(raw='7338652709907596009')]\n",
    "nb.plot_entries(themap, route_entries, 0.1, 4)"
   ]
  },
  {
   "cell_type": "code",
   "execution_count": 5,
   "metadata": {},
   "outputs": [
    {
     "data": {
      "text/plain": [
       "[VehicleId(raw=None),\n",
       " VehicleId(raw='7338674957838188864'),\n",
       " VehicleId(raw='7338674957838188921'),\n",
       " VehicleId(raw='7338674957838188866'),\n",
       " VehicleId(raw='7338674957838188868'),\n",
       " VehicleId(raw='7338674957838188968'),\n",
       " VehicleId(raw='7338674957838188807'),\n",
       " VehicleId(raw='7338674957838188751'),\n",
       " VehicleId(raw='7338674957838188749'),\n",
       " VehicleId(raw='7338674957838188918'),\n",
       " VehicleId(raw='7338674957838188743'),\n",
       " VehicleId(raw='7338674957838188928'),\n",
       " VehicleId(raw='7338674957838188930'),\n",
       " VehicleId(raw='7338674957838188692'),\n",
       " VehicleId(raw='7338674957838188929'),\n",
       " VehicleId(raw='7338674957838188862'),\n",
       " VehicleId(raw='7338674957838189386'),\n",
       " VehicleId(raw='7338674957838188925'),\n",
       " VehicleId(raw='7338674957838188761'),\n",
       " VehicleId(raw='7338674957838188600'),\n",
       " VehicleId(raw='7338674957838188748'),\n",
       " VehicleId(raw='7338674957838188641'),\n",
       " VehicleId(raw='7338674957838188932'),\n",
       " VehicleId(raw='7338674957838188752'),\n",
       " VehicleId(raw='7338674957838188797'),\n",
       " VehicleId(raw='7338674957838188840'),\n",
       " VehicleId(raw='7338674957838188710'),\n",
       " VehicleId(raw='7338674957838189377'),\n",
       " VehicleId(raw='7338674957838189374'),\n",
       " VehicleId(raw='7338674957838189383'),\n",
       " VehicleId(raw='7338674957838188757'),\n",
       " VehicleId(raw='7338674957838189384'),\n",
       " VehicleId(raw='7338674957838189406'),\n",
       " VehicleId(raw='7338674957838189397'),\n",
       " VehicleId(raw='7338674957838189390'),\n",
       " VehicleId(raw='7338674957838188758'),\n",
       " VehicleId(raw='7338674957838189378'),\n",
       " VehicleId(raw='7338674957838188879'),\n",
       " VehicleId(raw='7338674957838188760'),\n",
       " VehicleId(raw='7338674957838188756'),\n",
       " VehicleId(raw='7338674957838188973'),\n",
       " VehicleId(raw='7338674957838188712'),\n",
       " VehicleId(raw='7338674957838189395'),\n",
       " VehicleId(raw='7338674957838189196'),\n",
       " VehicleId(raw='7338674957838188755'),\n",
       " VehicleId(raw='7338674957838189339'),\n",
       " VehicleId(raw='7338674957838189393'),\n",
       " VehicleId(raw='7338674957838188809'),\n",
       " VehicleId(raw='7338674957838189203'),\n",
       " VehicleId(raw='7338674957838188953'),\n",
       " VehicleId(raw='7338674957838189398'),\n",
       " VehicleId(raw='7338674957838188838'),\n",
       " VehicleId(raw='7338674957838188919'),\n",
       " VehicleId(raw='7338674957838188922'),\n",
       " VehicleId(raw='7338674957838188802'),\n",
       " VehicleId(raw='7338674957838188844'),\n",
       " VehicleId(raw='7338674957838189205'),\n",
       " VehicleId(raw='7338674957838188933'),\n",
       " VehicleId(raw='7338674957838188867'),\n",
       " VehicleId(raw='7338674957838188927'),\n",
       " VehicleId(raw='7338674957838189381'),\n",
       " VehicleId(raw='7338674957838188926'),\n",
       " VehicleId(raw='7338674957838188917'),\n",
       " VehicleId(raw='7338674957838188702'),\n",
       " VehicleId(raw='7338674957838188703'),\n",
       " VehicleId(raw='7338674957838189432'),\n",
       " VehicleId(raw='7338674957838189371'),\n",
       " VehicleId(raw='7338674957838189380'),\n",
       " VehicleId(raw='7338674957838189142'),\n",
       " VehicleId(raw='7338674957838189284'),\n",
       " VehicleId(raw='7338674957838188964'),\n",
       " VehicleId(raw='7338674957838188801'),\n",
       " VehicleId(raw='7338674957838189413'),\n",
       " VehicleId(raw='7338674957838189394'),\n",
       " VehicleId(raw='7338674957838189430'),\n",
       " VehicleId(raw='7338674957838189282'),\n",
       " VehicleId(raw='7338674957838189410'),\n",
       " VehicleId(raw='7338674957838188923'),\n",
       " VehicleId(raw='7338674957838188764'),\n",
       " VehicleId(raw='7338674957838188924'),\n",
       " VehicleId(raw='7338674957838189373'),\n",
       " VehicleId(raw='7338674957838189369'),\n",
       " VehicleId(raw='7338674957838188742'),\n",
       " VehicleId(raw='7338674957838189379'),\n",
       " VehicleId(raw='7338674957838188839'),\n",
       " VehicleId(raw='7338674957838188754'),\n",
       " VehicleId(raw='7338674957838188759'),\n",
       " VehicleId(raw='7338674957838188763'),\n",
       " VehicleId(raw='7338674957838189370'),\n",
       " VehicleId(raw='7338674957838188920'),\n",
       " VehicleId(raw='7338674957838188635'),\n",
       " VehicleId(raw='7338674957838189143'),\n",
       " VehicleId(raw='7338674957838189285'),\n",
       " VehicleId(raw='7338674957838189385'),\n",
       " VehicleId(raw='7338674957838189376'),\n",
       " VehicleId(raw='7338674957838189389'),\n",
       " VehicleId(raw='7338674957838188972'),\n",
       " VehicleId(raw='7338674957838188741'),\n",
       " VehicleId(raw='7338674957838189283'),\n",
       " VehicleId(raw='7338674957838189204'),\n",
       " VehicleId(raw='7338674957838188852'),\n",
       " VehicleId(raw='7338674957838188704'),\n",
       " VehicleId(raw='7338674957838188931'),\n",
       " VehicleId(raw='7338674957838189185'),\n",
       " VehicleId(raw='7338674957838189286'),\n",
       " VehicleId(raw='7338674957838188740'),\n",
       " VehicleId(raw='7338674957838189127'),\n",
       " VehicleId(raw='7338674957838189151'),\n",
       " VehicleId(raw='7338674957838189146'),\n",
       " VehicleId(raw='7338674957838188618'),\n",
       " VehicleId(raw='7338674957838189152'),\n",
       " VehicleId(raw='7338674957838188886'),\n",
       " VehicleId(raw='7338674957838189337'),\n",
       " VehicleId(raw='7338674957838189431'),\n",
       " VehicleId(raw='7338674957838189338'),\n",
       " VehicleId(raw='7338674957838188851'),\n",
       " VehicleId(raw='7338674957838189261'),\n",
       " VehicleId(raw='7338674957838189260'),\n",
       " VehicleId(raw='7338674957838189335'),\n",
       " VehicleId(raw='7338674957838189231'),\n",
       " VehicleId(raw='7338674957838189414'),\n",
       " VehicleId(raw='7338674957838189234'),\n",
       " VehicleId(raw='7338674957838189137'),\n",
       " VehicleId(raw='7338674957838189246'),\n",
       " VehicleId(raw='7338674957838189128'),\n",
       " VehicleId(raw='7338674957838188630'),\n",
       " VehicleId(raw='7338674957838188609'),\n",
       " VehicleId(raw='7338674957838189244'),\n",
       " VehicleId(raw='7338674957838188884'),\n",
       " VehicleId(raw='7338674957838188882'),\n",
       " VehicleId(raw='7338674957838189120'),\n",
       " VehicleId(raw='7338674957838188592'),\n",
       " VehicleId(raw='7338674957838189429'),\n",
       " VehicleId(raw='7338674957838189478'),\n",
       " VehicleId(raw='7338674957838189154'),\n",
       " VehicleId(raw='7338674957838189236'),\n",
       " VehicleId(raw='7338674957838188694'),\n",
       " VehicleId(raw='7338674957838188555'),\n",
       " VehicleId(raw='7338674957838188698'),\n",
       " VehicleId(raw='7338674957838188622'),\n",
       " VehicleId(raw='7338674957838188629'),\n",
       " VehicleId(raw='7338674957838188621'),\n",
       " VehicleId(raw='7338674957838189479'),\n",
       " VehicleId(raw='7338674957838188617'),\n",
       " VehicleId(raw='7338674957838189141'),\n",
       " VehicleId(raw='7338674957838189131'),\n",
       " VehicleId(raw='7338674957838189269'),\n",
       " VehicleId(raw='7338674957838189150'),\n",
       " VehicleId(raw='7338674957838189399'),\n",
       " VehicleId(raw='7338674957838188631'),\n",
       " VehicleId(raw='7338674957838188638'),\n",
       " VehicleId(raw='7338674957838189382'),\n",
       " VehicleId(raw='7338674957838188696'),\n",
       " VehicleId(raw='7338674957838188637'),\n",
       " VehicleId(raw='7338674957838189268'),\n",
       " VehicleId(raw='7338674957838189474'),\n",
       " VehicleId(raw='7338674957838188873'),\n",
       " VehicleId(raw='7338674957838189271'),\n",
       " VehicleId(raw='7338674957838188766'),\n",
       " VehicleId(raw='7338674957838188619'),\n",
       " VehicleId(raw='7338674957838189121'),\n",
       " VehicleId(raw='7338674957838188697'),\n",
       " VehicleId(raw='7338674957838188804'),\n",
       " VehicleId(raw='7338674957838188554'),\n",
       " VehicleId(raw='7338674957838188876'),\n",
       " VehicleId(raw='7338674957838189409'),\n",
       " VehicleId(raw='7338674957838188943'),\n",
       " VehicleId(raw='7338674957838188724'),\n",
       " VehicleId(raw='7338674957838189334'),\n",
       " VehicleId(raw='7338674957838188650'),\n",
       " VehicleId(raw='7338674957838188723'),\n",
       " VehicleId(raw='7338674957838189144'),\n",
       " VehicleId(raw='7338674957838188583'),\n",
       " VehicleId(raw='7338674957838188582'),\n",
       " VehicleId(raw='7338674957838189161'),\n",
       " VehicleId(raw='7338674957838188623')]"
      ]
     },
     "execution_count": 5,
     "metadata": {},
     "output_type": "execute_result"
    }
   ],
   "source": [
    "vehicles"
   ]
  },
  {
   "cell_type": "code",
   "execution_count": 6,
   "metadata": {},
   "outputs": [
    {
     "data": {
      "text/plain": [
       "[220976,\n",
       " 26726,\n",
       " 26038,\n",
       " 21534,\n",
       " 21131,\n",
       " 17992,\n",
       " 16738,\n",
       " 16096,\n",
       " 16091,\n",
       " 15946,\n",
       " 15163,\n",
       " 15131,\n",
       " 14575,\n",
       " 14553,\n",
       " 14541,\n",
       " 14352,\n",
       " 14184,\n",
       " 13782,\n",
       " 13463,\n",
       " 13104,\n",
       " 12907,\n",
       " 12763,\n",
       " 12712,\n",
       " 12694,\n",
       " 12281,\n",
       " 12255,\n",
       " 12174,\n",
       " 12156,\n",
       " 11917,\n",
       " 11703,\n",
       " 11554,\n",
       " 11238,\n",
       " 11125,\n",
       " 11100,\n",
       " 11021,\n",
       " 10966,\n",
       " 10806,\n",
       " 10792,\n",
       " 10647,\n",
       " 10628,\n",
       " 10408,\n",
       " 10167,\n",
       " 9950,\n",
       " 9513,\n",
       " 9504,\n",
       " 9491,\n",
       " 9270,\n",
       " 9089,\n",
       " 9081,\n",
       " 8997,\n",
       " 8834,\n",
       " 8552,\n",
       " 8546,\n",
       " 8261,\n",
       " 8126,\n",
       " 8105,\n",
       " 8099,\n",
       " 8082,\n",
       " 8024,\n",
       " 7906,\n",
       " 7901,\n",
       " 7665,\n",
       " 7605,\n",
       " 7593,\n",
       " 7586,\n",
       " 7526,\n",
       " 7494,\n",
       " 7467,\n",
       " 7131,\n",
       " 7070,\n",
       " 6970,\n",
       " 6925,\n",
       " 6916,\n",
       " 6890,\n",
       " 6589,\n",
       " 6581,\n",
       " 6482,\n",
       " 6443,\n",
       " 6260,\n",
       " 5933,\n",
       " 5782,\n",
       " 5576,\n",
       " 5355,\n",
       " 5181,\n",
       " 4988,\n",
       " 4913,\n",
       " 4888,\n",
       " 4245,\n",
       " 4234,\n",
       " 4057,\n",
       " 4009,\n",
       " 3844,\n",
       " 3766,\n",
       " 3763,\n",
       " 3616,\n",
       " 3588,\n",
       " 3525,\n",
       " 3448,\n",
       " 3440,\n",
       " 3375,\n",
       " 3162,\n",
       " 3158,\n",
       " 3151,\n",
       " 3017,\n",
       " 2935,\n",
       " 2868,\n",
       " 2801,\n",
       " 2737,\n",
       " 2681,\n",
       " 2660,\n",
       " 2656,\n",
       " 2644,\n",
       " 2603,\n",
       " 2488,\n",
       " 2428,\n",
       " 2389,\n",
       " 2371,\n",
       " 2367,\n",
       " 2363,\n",
       " 2290,\n",
       " 2283,\n",
       " 2253,\n",
       " 2213,\n",
       " 2145,\n",
       " 2138,\n",
       " 2061,\n",
       " 2024,\n",
       " 1939,\n",
       " 1935,\n",
       " 1917,\n",
       " 1911,\n",
       " 1855,\n",
       " 1784,\n",
       " 1725,\n",
       " 1702,\n",
       " 1664,\n",
       " 1657,\n",
       " 1591,\n",
       " 1586,\n",
       " 1520,\n",
       " 1501,\n",
       " 1449,\n",
       " 1346,\n",
       " 1345,\n",
       " 1318,\n",
       " 1291,\n",
       " 1141,\n",
       " 1112,\n",
       " 1105,\n",
       " 1029,\n",
       " 983,\n",
       " 881,\n",
       " 879,\n",
       " 741,\n",
       " 709,\n",
       " 701,\n",
       " 688,\n",
       " 612,\n",
       " 538,\n",
       " 522,\n",
       " 511,\n",
       " 493,\n",
       " 490,\n",
       " 452,\n",
       " 411,\n",
       " 253,\n",
       " 232,\n",
       " 203,\n",
       " 152,\n",
       " 150,\n",
       " 115,\n",
       " 91,\n",
       " 56,\n",
       " 49,\n",
       " 23,\n",
       " 8]"
      ]
     },
     "execution_count": 6,
     "metadata": {},
     "output_type": "execute_result"
    }
   ],
   "source": [
    "[len(entries_by_vehicle[v]) for v in vehicles]"
   ]
  },
  {
   "cell_type": "code",
   "execution_count": 27,
   "metadata": {},
   "outputs": [
    {
     "data": {
      "text/plain": [
       "[23368,\n",
       " 7906,\n",
       " 7665,\n",
       " 7605,\n",
       " 7526,\n",
       " 7189,\n",
       " 6970,\n",
       " 6890,\n",
       " 6482,\n",
       " 6443,\n",
       " 6260,\n",
       " 5782,\n",
       " 4628,\n",
       " 3433,\n",
       " 3381,\n",
       " 3153,\n",
       " 3012,\n",
       " 2687,\n",
       " 1794,\n",
       " 1694,\n",
       " 1187,\n",
       " 1125,\n",
       " 1023,\n",
       " 526,\n",
       " 324,\n",
       " 311,\n",
       " 32,\n",
       " 25]"
      ]
     },
     "execution_count": 27,
     "metadata": {},
     "output_type": "execute_result"
    }
   ],
   "source": [
    "[len(entries_220_by_vehicle[v]) for v in vehicles_220]"
   ]
  },
  {
   "cell_type": "code",
   "execution_count": null,
   "metadata": {},
   "outputs": [],
   "source": [
    "nb.plot_entry_trail(themap, entries_220_by_vehicle[vehicles_220[1]], 10, 0.1, 1)"
   ]
  },
  {
   "cell_type": "code",
   "execution_count": 25,
   "metadata": {
    "scrolled": false
   },
   "outputs": [
    {
     "data": {
      "application/vnd.jupyter.widget-view+json": {
       "model_id": "dc9d2429c729456696dd0b892373867f",
       "version_major": 2,
       "version_minor": 0
      },
      "text/plain": [
       "Map(basemap={'url': 'https://{s}.tile.openstreetmap.org/{z}/{x}/{y}.png', 'max_zoom': 19, 'attribution': 'Map …"
      ]
     },
     "metadata": {},
     "output_type": "display_data"
    }
   ],
   "source": [
    "themap = mp.Map()\n",
    "themap.map"
   ]
  },
  {
   "cell_type": "code",
   "execution_count": null,
   "metadata": {},
   "outputs": [],
   "source": []
  }
 ],
 "metadata": {
  "kernelspec": {
   "display_name": "Python 3",
   "language": "python",
   "name": "python3"
  },
  "language_info": {
   "codemirror_mode": {
    "name": "ipython",
    "version": 3
   },
   "file_extension": ".py",
   "mimetype": "text/x-python",
   "name": "python",
   "nbconvert_exporter": "python",
   "pygments_lexer": "ipython3",
   "version": "3.7.0"
  }
 },
 "nbformat": 4,
 "nbformat_minor": 2
}
