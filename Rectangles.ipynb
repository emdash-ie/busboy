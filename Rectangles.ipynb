{
 "cells": [
  {
   "cell_type": "code",
   "execution_count": 70,
   "metadata": {},
   "outputs": [],
   "source": [
    "import ipyleaflet as lf\n",
    "from importlib import reload\n",
    "import shapely.geometry as sg\n",
    "import datetime as dt\n",
    "from collections import defaultdict\n",
    "import time"
   ]
  },
  {
   "cell_type": "code",
   "execution_count": 71,
   "metadata": {},
   "outputs": [
    {
     "data": {
      "text/plain": [
       "<module 'busboy.apis' from '/Users/Noel/Developer/Projects/Busboy/busboy/apis.py'>"
      ]
     },
     "execution_count": 71,
     "metadata": {},
     "output_type": "execute_result"
    }
   ],
   "source": [
    "import busboy.map.map as mp\n",
    "import busboy.constants as c\n",
    "import busboy.util as u\n",
    "import busboy.prediction as p\n",
    "import busboy.database as db\n",
    "import busboy.model as m\n",
    "import busboy.apis as api\n",
    "\n",
    "reload(mp)\n",
    "reload(c)\n",
    "reload(u)\n",
    "reload(p)\n",
    "reload(db)\n",
    "reload(m)\n",
    "reload(api)"
   ]
  },
  {
   "cell_type": "code",
   "execution_count": 36,
   "metadata": {},
   "outputs": [
    {
     "data": {
      "application/vnd.jupyter.widget-view+json": {
       "model_id": "8b9c8cee5128473787f6a7965040d582",
       "version_major": 2,
       "version_minor": 0
      },
      "text/plain": [
       "Map(basemap={'url': 'https://{s}.tile.openstreetmap.org/{z}/{x}/{y}.png', 'max_zoom': 19, 'attribution': 'Map …"
      ]
     },
     "metadata": {},
     "output_type": "display_data"
    }
   ],
   "source": [
    "themap = mp.Map()\n",
    "themap.map"
   ]
  },
  {
   "cell_type": "code",
   "execution_count": 41,
   "metadata": {},
   "outputs": [],
   "source": [
    "themap.clear_layers()"
   ]
  },
  {
   "cell_type": "code",
   "execution_count": 5,
   "metadata": {},
   "outputs": [],
   "source": [
    "all_stops = db.stops()\n",
    "stops_by_name = {s.name: s for s in all_stops}"
   ]
  },
  {
   "cell_type": "code",
   "execution_count": 6,
   "metadata": {},
   "outputs": [],
   "source": [
    "timetables_220 = list(api.timetables(\"220\", stops_by_name))"
   ]
  },
  {
   "cell_type": "code",
   "execution_count": 65,
   "metadata": {},
   "outputs": [
    {
     "data": {
      "text/plain": [
       "10"
      ]
     },
     "execution_count": 65,
     "metadata": {},
     "output_type": "execute_result"
    }
   ],
   "source": [
    "len(list(u.unique(v for t in timetables_220 for v in t.variants if v.route == \"220\")))"
   ]
  },
  {
   "cell_type": "code",
   "execution_count": 72,
   "metadata": {},
   "outputs": [],
   "source": [
    "timetables_205 = list(api.timetables(\"205\", stops_by_name))"
   ]
  },
  {
   "cell_type": "code",
   "execution_count": 7,
   "metadata": {},
   "outputs": [
    {
     "data": {
      "text/plain": [
       "Just(value=Stop(id=StopId(raw='7338653551722184832'), name='Ovens (Grange Road Terminus)', latitude=51.87648, longitude=-8.64687, number=246671))"
      ]
     },
     "execution_count": 7,
     "metadata": {},
     "output_type": "execute_result"
    }
   ],
   "source": [
    "timetable = u.first(timetables_220)\n",
    "variant = u.first(timetable.optional().variants)\n",
    "variant.bind(lambda v: u.first(v.stops))"
   ]
  },
  {
   "cell_type": "code",
   "execution_count": 73,
   "metadata": {},
   "outputs": [],
   "source": [
    "for v in u.unique(v for t in timetables_205 for v in t.variants if v.route == \"205\"):\n",
    "    plot(v.stops, 0.1)"
   ]
  },
  {
   "cell_type": "code",
   "execution_count": 57,
   "metadata": {},
   "outputs": [],
   "source": [
    "t = timetables_220[-2]\n",
    "plot(list(t.variants)[0].stops, 0.1)"
   ]
  },
  {
   "cell_type": "code",
   "execution_count": 55,
   "metadata": {},
   "outputs": [],
   "source": [
    "def plot(stops, interval):\n",
    "    time.sleep(4)\n",
    "    themap.clear_layers()\n",
    "    for s in stops:\n",
    "        themap._add_marker(s.latitude, s.longitude, s.name)\n",
    "        time.sleep(interval)"
   ]
  },
  {
   "cell_type": "code",
   "execution_count": 67,
   "metadata": {},
   "outputs": [],
   "source": [
    "stops = c.stops_on_220"
   ]
  },
  {
   "cell_type": "code",
   "execution_count": 5,
   "metadata": {},
   "outputs": [],
   "source": [
    "for s in stops:\n",
    "    themap.map.add_layer(\n",
    "        lf.Marker(\n",
    "                location=s.lat_lon,\n",
    "                draggable=False,\n",
    "                title=s.name,\n",
    "            )\n",
    "    )"
   ]
  },
  {
   "cell_type": "code",
   "execution_count": 9,
   "metadata": {},
   "outputs": [
    {
     "ename": "AttributeError",
     "evalue": "'Polygon' object has no attribute 'model_id'",
     "output_type": "error",
     "traceback": [
      "\u001b[0;31m---------------------------------------------------------------------------\u001b[0m",
      "\u001b[0;31mAttributeError\u001b[0m                            Traceback (most recent call last)",
      "\u001b[0;32m<ipython-input-9-e0724e4a184f>\u001b[0m in \u001b[0;36m<module>\u001b[0;34m\u001b[0m\n\u001b[1;32m      1\u001b[0m \u001b[0;32mfor\u001b[0m \u001b[0mr\u001b[0m \u001b[0;32min\u001b[0m \u001b[0mrs\u001b[0m\u001b[0;34m:\u001b[0m\u001b[0;34m\u001b[0m\u001b[0m\n\u001b[0;32m----> 2\u001b[0;31m     \u001b[0mthemap\u001b[0m\u001b[0;34m.\u001b[0m\u001b[0mmap\u001b[0m\u001b[0;34m.\u001b[0m\u001b[0mremove_layer\u001b[0m\u001b[0;34m(\u001b[0m\u001b[0mr\u001b[0m\u001b[0;34m)\u001b[0m\u001b[0;34m\u001b[0m\u001b[0m\n\u001b[0m",
      "\u001b[0;32m~/.local/share/virtualenvs/Busboy-8t8akAoa/lib/python3.7/site-packages/ipyleaflet/leaflet.py\u001b[0m in \u001b[0;36mremove_layer\u001b[0;34m(self, layer)\u001b[0m\n\u001b[1;32m    832\u001b[0m \u001b[0;34m\u001b[0m\u001b[0m\n\u001b[1;32m    833\u001b[0m     \u001b[0;32mdef\u001b[0m \u001b[0mremove_layer\u001b[0m\u001b[0;34m(\u001b[0m\u001b[0mself\u001b[0m\u001b[0;34m,\u001b[0m \u001b[0mlayer\u001b[0m\u001b[0;34m)\u001b[0m\u001b[0;34m:\u001b[0m\u001b[0;34m\u001b[0m\u001b[0m\n\u001b[0;32m--> 834\u001b[0;31m         \u001b[0;32mif\u001b[0m \u001b[0mlayer\u001b[0m\u001b[0;34m.\u001b[0m\u001b[0mmodel_id\u001b[0m \u001b[0;32mnot\u001b[0m \u001b[0;32min\u001b[0m \u001b[0mself\u001b[0m\u001b[0;34m.\u001b[0m\u001b[0m_layer_ids\u001b[0m\u001b[0;34m:\u001b[0m\u001b[0;34m\u001b[0m\u001b[0m\n\u001b[0m\u001b[1;32m    835\u001b[0m             \u001b[0;32mraise\u001b[0m \u001b[0mLayerException\u001b[0m\u001b[0;34m(\u001b[0m\u001b[0;34m'layer not on map: %r'\u001b[0m \u001b[0;34m%\u001b[0m \u001b[0mlayer\u001b[0m\u001b[0;34m)\u001b[0m\u001b[0;34m\u001b[0m\u001b[0m\n\u001b[1;32m    836\u001b[0m         \u001b[0mself\u001b[0m\u001b[0;34m.\u001b[0m\u001b[0mlayers\u001b[0m \u001b[0;34m=\u001b[0m \u001b[0mtuple\u001b[0m\u001b[0;34m(\u001b[0m\u001b[0;34m[\u001b[0m\u001b[0ml\u001b[0m \u001b[0;32mfor\u001b[0m \u001b[0ml\u001b[0m \u001b[0;32min\u001b[0m \u001b[0mself\u001b[0m\u001b[0;34m.\u001b[0m\u001b[0mlayers\u001b[0m \u001b[0;32mif\u001b[0m \u001b[0ml\u001b[0m\u001b[0;34m.\u001b[0m\u001b[0mmodel_id\u001b[0m \u001b[0;34m!=\u001b[0m \u001b[0mlayer\u001b[0m\u001b[0;34m.\u001b[0m\u001b[0mmodel_id\u001b[0m\u001b[0;34m]\u001b[0m\u001b[0;34m)\u001b[0m\u001b[0;34m\u001b[0m\u001b[0m\n",
      "\u001b[0;31mAttributeError\u001b[0m: 'Polygon' object has no attribute 'model_id'"
     ]
    }
   ],
   "source": [
    "for r in rs:\n",
    "    themap.map.remove_layer(r)"
   ]
  },
  {
   "cell_type": "code",
   "execution_count": 68,
   "metadata": {},
   "outputs": [],
   "source": [
    "rs = p.route_sections(stops, 0.001)\n",
    "\n",
    "for r in rs:\n",
    "    themap.add_polygon(r.polygon)"
   ]
  },
  {
   "cell_type": "code",
   "execution_count": 44,
   "metadata": {},
   "outputs": [],
   "source": [
    "entries = db.entries(r = db.routes_by_name()[\"220\"].id, d = dt.date(2019, 1, 5))\n",
    "entries_by_trip = defaultdict(list)\n",
    "for e in entries:\n",
    "    entries_by_trip[e.trip].append(e)"
   ]
  },
  {
   "cell_type": "code",
   "execution_count": 56,
   "metadata": {},
   "outputs": [
    {
     "data": {
      "text/plain": [
       "[(TripId(raw='7338656568274099974'), 161),\n",
       " (TripId(raw='7338656568301104900'), 127),\n",
       " (TripId(raw='7338656568274099973'), 201),\n",
       " (TripId(raw='7338656568260779780'), 142),\n",
       " (TripId(raw='7338656568274099972'), 165),\n",
       " (TripId(raw='7338656568274185987'), 214),\n",
       " (TripId(raw='7338656568294059783'), 152),\n",
       " (TripId(raw='7338656568301104902'), 212),\n",
       " (TripId(raw='7338656568294059782'), 157),\n",
       " (TripId(raw='7338656568301104903'), 275)]"
      ]
     },
     "execution_count": 56,
     "metadata": {},
     "output_type": "execute_result"
    }
   ],
   "source": [
    "list(u.take(10, ((t, len(v)) for t, v in entries_by_trip.items())))"
   ]
  },
  {
   "cell_type": "code",
   "execution_count": 57,
   "metadata": {},
   "outputs": [],
   "source": [
    "demo_trip = m.TripId(raw='7338656568274099974')\n",
    "demo_entries = sorted(entries_by_trip[demo_trip], key=lambda e: e.last_modified)\n",
    "sections = route_sections(stops)\n",
    "demo_regions = p.assign_regions(demo_entries, stops)\n",
    "demo_stops = list(p.most_recent_stops(demo_regions))"
   ]
  },
  {
   "cell_type": "code",
   "execution_count": 58,
   "metadata": {},
   "outputs": [
    {
     "data": {
      "text/plain": [
       "[('2019-01-05T10:48:59.888000', 'Carrigaline (Town Ctr Bridge Southbound)'),\n",
       " ('2019-01-05T11:23:52.049000', 'Douglas Road (Clermont Ave)'),\n",
       " ('2019-01-05T11:24:12.110000', 'Douglas Road (Clermont Ave)'),\n",
       " ('2019-01-05T11:24:28.163000', 'Douglas Road (Clermont Ave)'),\n",
       " ('2019-01-05T11:24:45.230000', 'Douglas Road (Clermont Ave)'),\n",
       " ('2019-01-05T11:24:59.255000', 'Douglas Road (Clermont Ave)'),\n",
       " ('2019-01-05T11:25:15.307000', 'Douglas Road (Clermont Ave)'),\n",
       " ('2019-01-05T11:25:19.909000', 'Douglas Road (Clermont Ave)'),\n",
       " ('2019-01-05T11:25:39.394000', 'Douglas Road (Clermont Ave)'),\n",
       " ('2019-01-05T11:26:10.486000', 'Douglas Road (Clermont Ave)'),\n",
       " ('2019-01-05T11:26:26.538000', 'Douglas Road (Clermont Ave)'),\n",
       " ('2019-01-05T11:26:26.554000', 'Douglas Road (Clermont Ave)'),\n",
       " ('2019-01-05T11:26:42.591000', 'Douglas Road (Clermont Ave)'),\n",
       " ('2019-01-05T11:27:09.673000', 'Douglas Road (Clermont Ave)'),\n",
       " ('2019-01-05T11:27:15.695000', 'Douglas Road (Clermont Ave)'),\n",
       " ('2019-01-05T11:27:29.735000', 'Douglas Road (Clermont Ave)'),\n",
       " ('2019-01-05T11:27:29.751000', 'Douglas Road (Clermont Ave)'),\n",
       " ('2019-01-05T11:27:51.810000', 'Douglas Road (Endsleigh Estate)'),\n",
       " ('2019-01-05T11:28:12.870000', 'Douglas Road (Ardfallen Shopping Mall)'),\n",
       " ('2019-01-05T11:28:22.043000', 'Douglas Road (Ardfallen Shopping Mall)'),\n",
       " ('2019-01-05T12:30:37.501000', 'Ovens (EMC Terminus)'),\n",
       " ('2019-01-05T12:30:59.575000', 'Ovens (EMC Terminus)'),\n",
       " ('2019-01-05T12:31:37.733000', None),\n",
       " ('2019-01-05T12:32:06.828000', None),\n",
       " ('2019-01-05T12:32:06.844000', None),\n",
       " ('2019-01-05T12:32:07.826000', None),\n",
       " ('2019-01-05T12:32:47.997000', 'Ballincollig West (Classes Lake)'),\n",
       " ('2019-01-05T12:33:06.047000', 'Ballincollig West (Classes Lake)'),\n",
       " ('2019-01-05T12:33:06.062000', 'Ballincollig West (Classes Lake)'),\n",
       " ('2019-01-05T12:33:55.235000', 'Ballincollig West (Opp Aylsbury Estate)'),\n",
       " ('2019-01-05T12:34:15.312000', 'Ballincollig West (Opp Aylsbury Estate)'),\n",
       " ('2019-01-05T12:34:36.404000', 'Ballincollig West (Opp Old Quarry)'),\n",
       " ('2019-01-05T12:34:40.429000', 'Ballincollig West (Opp Coolroe Heights)'),\n",
       " ('2019-01-05T12:35:14.562000', 'Ballincollig West (Opp Coolroe Heights)'),\n",
       " ('2019-01-05T12:35:30.630000', 'Ballincollig West (Opp Coolroe Heights)'),\n",
       " ('2019-01-05T12:35:46.683000', 'Ballincollig West (Opp Coolroe Heights)'),\n",
       " ('2019-01-05T12:35:47.666000', 'Ballincollig West (Opp Coolroe Heights)'),\n",
       " ('2019-01-05T12:36:01.737000', 'Ballincollig West (Opp Coolroe Heights)'),\n",
       " ('2019-01-05T12:36:02.736000', 'Ballincollig West (Opp Coolroe Heights)'),\n",
       " ('2019-01-05T12:36:49.942000', 'Ballincollig (Opp Jctn Barrys Road)'),\n",
       " ('2019-01-05T12:37:24.201000', 'Ballincollig (Opp Jctn Barrys Road)'),\n",
       " ('2019-01-05T12:37:25.059000', 'Ballincollig (Opp Jctn Barrys Road)'),\n",
       " ('2019-01-05T12:37:50.144000', 'Ballincollig (Opp Jctn Barrys Road)'),\n",
       " ('2019-01-05T12:38:06.197000', 'Ballincollig (Opp Jctn Barrys Road)'),\n",
       " ('2019-01-05T12:38:06.212000', 'Ballincollig (Opp Jctn Barrys Road)'),\n",
       " ('2019-01-05T12:38:21.282000', 'Ballincollig (Opp Jctn Barrys Road)'),\n",
       " ('2019-01-05T12:38:40.314000', 'Ballincollig (Shopping Centre)'),\n",
       " ('2019-01-05T12:39:37.536000', 'Ballincollig (Shopping Centre)'),\n",
       " ('2019-01-05T12:40:03.636000', 'Ballincollig Town Centre (Garda St)'),\n",
       " ('2019-01-05T12:40:03.651000', 'Ballincollig Town Centre (Garda St)'),\n",
       " ('2019-01-05T12:40:32.777000', 'Ballincollig Town Centre (Garda St)'),\n",
       " ('2019-01-05T12:41:18.377000', 'Ballincollig Town Centre (Garda St)'),\n",
       " ('2019-01-05T12:41:35.412000', 'Ballincollig Town Centre (Garda St)'),\n",
       " ('2019-01-05T12:41:35.428000', 'Ballincollig Town Centre (Garda St)'),\n",
       " ('2019-01-05T12:43:21.869000', 'Ballincollig (Opp Rosewood Est)'),\n",
       " ('2019-01-05T12:43:52.040000', 'Ballincollig (Opp Rosewood Est)'),\n",
       " ('2019-01-05T12:44:37.218000', 'Model Farm Rd (Guide Dog Centre)'),\n",
       " ('2019-01-05T12:44:49.246000', 'Model Farm Rd (Guide Dog Centre)'),\n",
       " ('2019-01-05T12:44:55.283000', 'Model Farm Rd (Guide Dog Centre)'),\n",
       " ('2019-01-05T12:45:01.289000', 'Model Farm Rd (Church Cross East)'),\n",
       " ('2019-01-05T12:45:43.457000', 'Model Farm Rd (Inchaggin Eastbound)'),\n",
       " ('2019-01-05T12:46:04.564000', 'Model Farm Rd (Inchaggin Eastbound)'),\n",
       " ('2019-01-05T12:46:27.653000', 'Model Farm Rd (Inchaggin Eastbound)'),\n",
       " ('2019-01-05T12:46:55.749000', 'Model Farm Rd (Inchaggin Eastbound)'),\n",
       " ('2019-01-05T12:47:35.904000', 'Model Farm Road (Eden Hall)'),\n",
       " ('2019-01-05T12:48:29.132000', 'Model Farm Road (Eden Hall)'),\n",
       " ('2019-01-05T12:49:10.317000', None),\n",
       " ('2019-01-05T12:49:28.398000', None),\n",
       " ('2019-01-05T12:49:57.539000', 'Model Farm Rd (Opp Ultralase Ireland)'),\n",
       " ('2019-01-05T12:50:13.576000', 'Model Farm Rd (Opp Ultralase Ireland)'),\n",
       " ('2019-01-05T12:50:55.759000', 'Model Farm Rd (IDA Technology Park)'),\n",
       " ('2019-01-05T12:51:10.814000', 'Model Farm Rd (IDA Technology Park)'),\n",
       " ('2019-01-05T12:51:26.882000', 'Model Farm Rd (IDA Technology Park)'),\n",
       " ('2019-01-05T12:51:54.978000', 'Model Farm Rd (IDA Technology Park)'),\n",
       " ('2019-01-05T12:52:12.014000', 'Model Farm Rd (IDA Technology Park)'),\n",
       " ('2019-01-05T12:52:20.063000', 'Model Farm Rd (Dept of Agriculture)'),\n",
       " ('2019-01-05T12:52:36.132000', 'Model Farm Rd (Dept of Agriculture)'),\n",
       " ('2019-01-05T12:52:54.197000', 'Model Farm Rd (Dept of Agriculture)'),\n",
       " ('2019-01-05T12:53:21.295000', 'Model Farm Road (Farranlea Park)'),\n",
       " ('2019-01-05T12:53:53.384000', 'Model Farm Road (Farranlea Park)'),\n",
       " ('2019-01-05T12:54:14.445000', 'Model Farm Road (Farranlea Park)'),\n",
       " ('2019-01-05T12:54:32.510000', 'Model Farm Rd (Bishopstown Park)'),\n",
       " ('2019-01-05T12:54:57.611000', None),\n",
       " ('2019-01-05T12:55:37.813000', \"Model Farm Rd (Dennehy's Cross Jctn)\"),\n",
       " ('2019-01-05T12:56:14.973000', \"Dennehy's Cross (Opp Cork Farm Ctr)\"),\n",
       " ('2019-01-05T12:56:37.047000', 'Victoria Cross (Victoria Lodge)'),\n",
       " ('2019-01-05T12:58:13.426000', 'Western Rd (Opp UCC Western Gateway)'),\n",
       " ('2019-01-05T13:01:29.319000', 'Victoria Cross (Victoria Lodge)'),\n",
       " ('2019-01-05T13:01:46.697000', 'Mardyke (Presentation College)'),\n",
       " ('2019-01-05T13:08:08.457000', 'Grand Parade (Caseys Furniture)'),\n",
       " ('2019-01-05T13:08:28.522000', 'Grand Parade (Caseys Furniture)'),\n",
       " ('2019-01-05T13:09:20.727000', 'Grand Parade (Caseys Furniture)'),\n",
       " ('2019-01-05T13:09:39.777000', 'South Mall (Opp Cork Passport Office)'),\n",
       " ('2019-01-05T13:15:14.970000', 'South Mall (Opp Cork Passport Office)'),\n",
       " ('2019-01-05T13:15:44.082000', 'South Mall (Opp Cork Passport Office)'),\n",
       " ('2019-01-05T13:16:19.199000', 'South Mall (Opp Cork Passport Office)'),\n",
       " ('2019-01-05T13:16:26.734000', 'Cork City Hall'),\n",
       " ('2019-01-05T13:17:07.873000', 'Cork City Hall'),\n",
       " ('2019-01-05T13:17:28.933000', 'Cork City Hall'),\n",
       " ('2019-01-05T13:17:58.060000', 'Cork City Hall'),\n",
       " ('2019-01-05T13:18:34.175000', 'Southern Rd (Opp Owl Printers)'),\n",
       " ('2019-01-05T13:18:55.236000', 'Southern Rd (Opp Owl Printers)'),\n",
       " ('2019-01-05T13:19:17.326000', 'Douglas Road (Opp St Finbarrs Hospital)'),\n",
       " ('2019-01-05T13:19:38.387000', 'Douglas Road (Glengesh Bellair)'),\n",
       " ('2019-01-05T13:19:38.403000', 'Douglas Road (Glengesh Bellair)'),\n",
       " ('2019-01-05T13:19:58.481000', 'Douglas Road (Cross Douglas Rd Jctn)'),\n",
       " ('2019-01-05T13:20:15.517000', 'Douglas Road (Before Woolharra Park)'),\n",
       " ('2019-01-05T13:20:38.574000', 'Douglas Road (Before Woolharra Park)'),\n",
       " ('2019-01-05T13:20:41.601000', 'Douglas Road (Ardfallen Shopping Mall)'),\n",
       " ('2019-01-05T13:21:28.777000', 'Douglas Road (Ardfallen Shopping Mall)'),\n",
       " ('2019-01-05T13:22:50.070000', 'Douglas Road (Clermont Ave)'),\n",
       " ('2019-01-05T13:23:05.140000', 'Douglas Road (Clermont Ave)'),\n",
       " ('2019-01-05T13:23:24.173000', 'Douglas Road (Clermont Ave)'),\n",
       " ('2019-01-05T13:23:58.291000', 'Douglas Road (Clermont Ave)'),\n",
       " ('2019-01-05T13:24:18.353000', 'Douglas Road (Clermont Ave)'),\n",
       " ('2019-01-05T13:24:36.434000', 'Douglas Road (Clermont Ave)'),\n",
       " ('2019-01-05T13:25:06.527000', 'Douglas Road (Clermont Ave)'),\n",
       " ('2019-01-05T13:25:23.578000', 'Douglas Road (Clermont Ave)'),\n",
       " ('2019-01-05T13:25:55.699000', 'Douglas East Village (Opp Tramway Tce)'),\n",
       " ('2019-01-05T13:26:26.822000', 'Douglas East Village (Opp Tramway Tce)'),\n",
       " ('2019-01-05T13:26:44.856000', 'Douglas East Village (Opp Tramway Tce)'),\n",
       " ('2019-01-05T13:27:18.989000', 'Douglas East Village (Opp Tramway Tce)'),\n",
       " ('2019-01-05T13:28:07.132000', 'Douglas East Village (Opp Tramway Tce)'),\n",
       " ('2019-01-05T13:28:31.219000', 'Maryborough Hill (Op The Paddocks)'),\n",
       " ('2019-01-05T13:28:48.270000', 'Maryborough Hill (Op The Paddocks)'),\n",
       " ('2019-01-05T13:29:14.385000', 'Maryborough Hill (Op The Paddocks)'),\n",
       " ('2019-01-05T13:30:15.569000', 'Maryborough Hill (Lissadell Southbound)'),\n",
       " ('2019-01-05T13:30:39.710000', 'Maryborough Hill (Lissadell Southbound)'),\n",
       " ('2019-01-05T13:30:52.751000', 'Maryborough Hill (Lissadell Southbound)'),\n",
       " ('2019-01-05T13:31:00.770000', 'Maryborough Hill (Broadale Southbound)'),\n",
       " ('2019-01-05T13:32:38.755000', None),\n",
       " ('2019-01-05T13:33:38.957000', 'Maryborough Hill (Broadale Southbound)'),\n",
       " ('2019-01-05T13:34:11.047000', None),\n",
       " ('2019-01-05T13:34:42.169000', None),\n",
       " ('2019-01-05T13:35:29.360000', None),\n",
       " ('2019-01-05T13:35:53.463000', None),\n",
       " ('2019-01-05T13:36:04.492000', None),\n",
       " ('2019-01-05T13:36:30.576000', None),\n",
       " ('2019-01-05T13:36:47.643000', 'Maryborough Hill (Hilltown Southbound)'),\n",
       " ('2019-01-05T13:37:15.786000', 'Carrigaline (Opp Carrignacurra)'),\n",
       " ('2019-01-05T13:37:30.824000', 'Carrigaline (Herons Wood)'),\n",
       " ('2019-01-05T13:38:01.931000', 'Carrigaline (Herons Wood)'),\n",
       " ('2019-01-05T13:38:55.128000', 'Carrigaline (Opp Glenview)'),\n",
       " ('2019-01-05T13:39:13.193000', 'Carrigaline (Opp Glenview)'),\n",
       " ('2019-01-05T13:39:26.251000', 'Carrigaline (Cork Rd LyndenDental)'),\n",
       " ('2019-01-05T13:39:54.347000', 'Carrigaline (Church)'),\n",
       " ('2019-01-05T13:40:10.431000', 'Carrigaline (Church)'),\n",
       " ('2019-01-05T14:08:55.465000', 'Carrigaline (Town Ctr Bridge Southbound)'),\n",
       " ('2019-01-05T14:12:58.721000', 'Carrigaline (Church)'),\n",
       " ('2019-01-05T14:12:58.736000', 'Carrigaline (Church)'),\n",
       " ('2019-01-05T14:31:54.227000', 'Douglas Road (Clermont Ave)'),\n",
       " ('2019-01-05T14:34:57.343000', 'Douglas Road (Ardfallen Shopping Mall)'),\n",
       " ('2019-01-05T14:48:27.794000', None),\n",
       " ('2019-01-05T14:48:49.806000', None),\n",
       " ('2019-01-05T14:49:09.821000', None),\n",
       " ('2019-01-05T14:51:34.077000', 'Sheares Street (Mercy Hospital)'),\n",
       " ('2019-01-05T15:19:39.955000', 'Ballincollig (Shopping Centre)'),\n",
       " ('2019-01-05T15:21:35.163000', 'Ballincollig West (Op White Horse Bar)'),\n",
       " ('2019-01-05T15:32:15.253000', 'Ballincollig West (Classes Lake)'),\n",
       " ('2019-01-05T15:33:33.831000', 'Ovens (EMC Terminus)'),\n",
       " ('2019-01-05T15:37:08.195000', 'Ballincollig West (Classes Lake)')]"
      ]
     },
     "execution_count": 58,
     "metadata": {},
     "output_type": "execute_result"
    }
   ],
   "source": [
    "[(t[0].last_modified.isoformat(), t[1].map(lambda s: s.name).optional()) for t in demo_stops]"
   ]
  },
  {
   "cell_type": "code",
   "execution_count": null,
   "metadata": {},
   "outputs": [],
   "source": []
  }
 ],
 "metadata": {
  "kernelspec": {
   "display_name": "Python 3",
   "language": "python",
   "name": "python3"
  },
  "language_info": {
   "codemirror_mode": {
    "name": "ipython",
    "version": 3
   },
   "file_extension": ".py",
   "mimetype": "text/x-python",
   "name": "python",
   "nbconvert_exporter": "python",
   "pygments_lexer": "ipython3",
   "version": "3.7.0"
  }
 },
 "nbformat": 4,
 "nbformat_minor": 2
}
