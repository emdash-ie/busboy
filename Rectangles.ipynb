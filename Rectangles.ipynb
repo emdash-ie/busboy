{
 "cells": [
  {
   "cell_type": "code",
   "execution_count": 1,
   "metadata": {},
   "outputs": [],
   "source": [
    "import ipyleaflet as lf\n",
    "from importlib import reload\n",
    "import shapely.geometry as sg\n",
    "import datetime as dt\n",
    "from collections import defaultdict\n",
    "import time\n",
    "import operator as op\n",
    "import numpy as np\n",
    "import pandas as pd\n",
    "from itertools import islice"
   ]
  },
  {
   "cell_type": "code",
   "execution_count": 2,
   "metadata": {},
   "outputs": [
    {
     "name": "stderr",
     "output_type": "stream",
     "text": [
      "/Users/Noel/.local/share/virtualenvs/Busboy-8t8akAoa/lib/python3.7/site-packages/psycopg2/__init__.py:144: UserWarning: The psycopg2 wheel package will be renamed from release 2.8; in order to keep installing from binary please use \"pip install psycopg2-binary\" instead. For details see: <http://initd.org/psycopg/docs/install.html#binary-install-from-pypi>.\n",
      "  \"\"\")\n"
     ]
    },
    {
     "data": {
      "text/plain": [
       "<module 'busboy.util.notebooks' from '/Users/Noel/Developer/Projects/Busboy/busboy/util/notebooks.py'>"
      ]
     },
     "execution_count": 2,
     "metadata": {},
     "output_type": "execute_result"
    }
   ],
   "source": [
    "import busboy.map.map as mp\n",
    "import busboy.constants as c\n",
    "import busboy.util as u\n",
    "import busboy.prediction as p\n",
    "import busboy.database as db\n",
    "import busboy.model as m\n",
    "import busboy.apis as api\n",
    "import busboy.util.notebooks as nb\n",
    "\n",
    "reload(mp)\n",
    "reload(c)\n",
    "reload(u)\n",
    "reload(p)\n",
    "reload(db)\n",
    "reload(m)\n",
    "reload(api)\n",
    "reload(nb)"
   ]
  },
  {
   "cell_type": "code",
   "execution_count": 3,
   "metadata": {},
   "outputs": [
    {
     "ename": "NameError",
     "evalue": "name 'themap' is not defined",
     "output_type": "error",
     "traceback": [
      "\u001b[0;31m---------------------------------------------------------------------------\u001b[0m",
      "\u001b[0;31mNameError\u001b[0m                                 Traceback (most recent call last)",
      "\u001b[0;32m<ipython-input-3-8280f57a89c6>\u001b[0m in \u001b[0;36m<module>\u001b[0;34m\u001b[0m\n\u001b[0;32m----> 1\u001b[0;31m \u001b[0mthemap\u001b[0m\u001b[0;34m.\u001b[0m\u001b[0mclear_layers\u001b[0m\u001b[0;34m(\u001b[0m\u001b[0;34m)\u001b[0m\u001b[0;34m\u001b[0m\u001b[0m\n\u001b[0m",
      "\u001b[0;31mNameError\u001b[0m: name 'themap' is not defined"
     ]
    }
   ],
   "source": [
    "themap.clear_layers()"
   ]
  },
  {
   "cell_type": "code",
   "execution_count": 5,
   "metadata": {},
   "outputs": [],
   "source": [
    "all_stops = db.stops()\n",
    "stops_by_name = {s.name: s for s in all_stops}"
   ]
  },
  {
   "cell_type": "code",
   "execution_count": 6,
   "metadata": {},
   "outputs": [],
   "source": [
    "timetables_220 = list(api.timetables(\"220\", stops_by_name))"
   ]
  },
  {
   "cell_type": "code",
   "execution_count": 65,
   "metadata": {},
   "outputs": [
    {
     "data": {
      "text/plain": [
       "10"
      ]
     },
     "execution_count": 65,
     "metadata": {},
     "output_type": "execute_result"
    }
   ],
   "source": [
    "len(list(u.unique(v for t in timetables_220 for v in t.variants if v.route == \"220\")))"
   ]
  },
  {
   "cell_type": "code",
   "execution_count": 72,
   "metadata": {},
   "outputs": [],
   "source": [
    "timetables_205 = list(api.timetables(\"205\", stops_by_name))"
   ]
  },
  {
   "cell_type": "code",
   "execution_count": 7,
   "metadata": {},
   "outputs": [
    {
     "data": {
      "text/plain": [
       "Just(value=Stop(id=StopId(raw='7338653551722184832'), name='Ovens (Grange Road Terminus)', latitude=51.87648, longitude=-8.64687, number=246671))"
      ]
     },
     "execution_count": 7,
     "metadata": {},
     "output_type": "execute_result"
    }
   ],
   "source": [
    "timetable = u.first(timetables_220)\n",
    "variant = u.first(timetable.optional().variants)\n",
    "variant.bind(lambda v: u.first(v.stops))"
   ]
  },
  {
   "cell_type": "code",
   "execution_count": 73,
   "metadata": {},
   "outputs": [],
   "source": [
    "for v in u.unique(v for t in timetables_205 for v in t.variants if v.route == \"205\"):\n",
    "    plot(v.stops, 0.1)"
   ]
  },
  {
   "cell_type": "code",
   "execution_count": 57,
   "metadata": {},
   "outputs": [],
   "source": [
    "t = timetables_220[-2]\n",
    "plot(list(t.variants)[0].stops, 0.1)"
   ]
  },
  {
   "cell_type": "code",
   "execution_count": 55,
   "metadata": {},
   "outputs": [],
   "source": [
    "def plot(stops, interval):\n",
    "    time.sleep(4)\n",
    "    themap.clear_layers()\n",
    "    for s in stops:\n",
    "        themap._add_marker(s.latitude, s.longitude, s.name)\n",
    "        time.sleep(interval)"
   ]
  },
  {
   "cell_type": "code",
   "execution_count": 67,
   "metadata": {},
   "outputs": [],
   "source": [
    "stops = c.stops_on_220"
   ]
  },
  {
   "cell_type": "code",
   "execution_count": 5,
   "metadata": {},
   "outputs": [],
   "source": [
    "for s in stops:\n",
    "    themap.map.add_layer(\n",
    "        lf.Marker(\n",
    "                location=s.lat_lon,\n",
    "                draggable=False,\n",
    "                title=s.name,\n",
    "            )\n",
    "    )"
   ]
  },
  {
   "cell_type": "code",
   "execution_count": 9,
   "metadata": {},
   "outputs": [
    {
     "ename": "AttributeError",
     "evalue": "'Polygon' object has no attribute 'model_id'",
     "output_type": "error",
     "traceback": [
      "\u001b[0;31m---------------------------------------------------------------------------\u001b[0m",
      "\u001b[0;31mAttributeError\u001b[0m                            Traceback (most recent call last)",
      "\u001b[0;32m<ipython-input-9-e0724e4a184f>\u001b[0m in \u001b[0;36m<module>\u001b[0;34m\u001b[0m\n\u001b[1;32m      1\u001b[0m \u001b[0;32mfor\u001b[0m \u001b[0mr\u001b[0m \u001b[0;32min\u001b[0m \u001b[0mrs\u001b[0m\u001b[0;34m:\u001b[0m\u001b[0;34m\u001b[0m\u001b[0m\n\u001b[0;32m----> 2\u001b[0;31m     \u001b[0mthemap\u001b[0m\u001b[0;34m.\u001b[0m\u001b[0mmap\u001b[0m\u001b[0;34m.\u001b[0m\u001b[0mremove_layer\u001b[0m\u001b[0;34m(\u001b[0m\u001b[0mr\u001b[0m\u001b[0;34m)\u001b[0m\u001b[0;34m\u001b[0m\u001b[0m\n\u001b[0m",
      "\u001b[0;32m~/.local/share/virtualenvs/Busboy-8t8akAoa/lib/python3.7/site-packages/ipyleaflet/leaflet.py\u001b[0m in \u001b[0;36mremove_layer\u001b[0;34m(self, layer)\u001b[0m\n\u001b[1;32m    832\u001b[0m \u001b[0;34m\u001b[0m\u001b[0m\n\u001b[1;32m    833\u001b[0m     \u001b[0;32mdef\u001b[0m \u001b[0mremove_layer\u001b[0m\u001b[0;34m(\u001b[0m\u001b[0mself\u001b[0m\u001b[0;34m,\u001b[0m \u001b[0mlayer\u001b[0m\u001b[0;34m)\u001b[0m\u001b[0;34m:\u001b[0m\u001b[0;34m\u001b[0m\u001b[0m\n\u001b[0;32m--> 834\u001b[0;31m         \u001b[0;32mif\u001b[0m \u001b[0mlayer\u001b[0m\u001b[0;34m.\u001b[0m\u001b[0mmodel_id\u001b[0m \u001b[0;32mnot\u001b[0m \u001b[0;32min\u001b[0m \u001b[0mself\u001b[0m\u001b[0;34m.\u001b[0m\u001b[0m_layer_ids\u001b[0m\u001b[0;34m:\u001b[0m\u001b[0;34m\u001b[0m\u001b[0m\n\u001b[0m\u001b[1;32m    835\u001b[0m             \u001b[0;32mraise\u001b[0m \u001b[0mLayerException\u001b[0m\u001b[0;34m(\u001b[0m\u001b[0;34m'layer not on map: %r'\u001b[0m \u001b[0;34m%\u001b[0m \u001b[0mlayer\u001b[0m\u001b[0;34m)\u001b[0m\u001b[0;34m\u001b[0m\u001b[0m\n\u001b[1;32m    836\u001b[0m         \u001b[0mself\u001b[0m\u001b[0;34m.\u001b[0m\u001b[0mlayers\u001b[0m \u001b[0;34m=\u001b[0m \u001b[0mtuple\u001b[0m\u001b[0;34m(\u001b[0m\u001b[0;34m[\u001b[0m\u001b[0ml\u001b[0m \u001b[0;32mfor\u001b[0m \u001b[0ml\u001b[0m \u001b[0;32min\u001b[0m \u001b[0mself\u001b[0m\u001b[0;34m.\u001b[0m\u001b[0mlayers\u001b[0m \u001b[0;32mif\u001b[0m \u001b[0ml\u001b[0m\u001b[0;34m.\u001b[0m\u001b[0mmodel_id\u001b[0m \u001b[0;34m!=\u001b[0m \u001b[0mlayer\u001b[0m\u001b[0;34m.\u001b[0m\u001b[0mmodel_id\u001b[0m\u001b[0;34m]\u001b[0m\u001b[0;34m)\u001b[0m\u001b[0;34m\u001b[0m\u001b[0m\n",
      "\u001b[0;31mAttributeError\u001b[0m: 'Polygon' object has no attribute 'model_id'"
     ]
    }
   ],
   "source": [
    "for r in rs:\n",
    "    themap.map.remove_layer(r)"
   ]
  },
  {
   "cell_type": "code",
   "execution_count": 68,
   "metadata": {},
   "outputs": [],
   "source": [
    "rs = p.route_sections(stops, 0.001)\n",
    "\n",
    "for r in rs:\n",
    "    themap.add_polygon(r.polygon)"
   ]
  },
  {
   "cell_type": "code",
   "execution_count": 13,
   "metadata": {},
   "outputs": [],
   "source": [
    "entries = db.snapshots(d = dt.date(2019, 2, 19))\n",
    "\n",
    "entries_by_trip = defaultdict(list)\n",
    "for e in entries:\n",
    "    entries_by_trip[e.trip].append(e)\n",
    "    \n",
    "entries_by_vehicle = defaultdict(list)\n",
    "for e in entries:\n",
    "    entries_by_vehicle[e.vehicle].append(e)"
   ]
  },
  {
   "cell_type": "code",
   "execution_count": 14,
   "metadata": {},
   "outputs": [],
   "source": [
    "rbn = db.routes_by_name()\n",
    "entries_220 = [e for e in entries if e.route == rbn[\"220\"].id]\n",
    "\n",
    "entries_220_by_vehicle = defaultdict(list)\n",
    "for e in entries_220:\n",
    "    entries_220_by_vehicle[e.vehicle].append(e)\n",
    "    \n",
    "entries_220_by_trip = defaultdict(list)\n",
    "for e in entries_220:\n",
    "    entries_220_by_trip[e.trip].append(e)"
   ]
  },
  {
   "cell_type": "code",
   "execution_count": 15,
   "metadata": {},
   "outputs": [],
   "source": [
    "trips = list(map(op.itemgetter(0), sorted(((t, len(v)) for t, v in entries_by_trip.items()), key=op.itemgetter(1), reverse=True)))\n",
    "vehicles = list(map(op.itemgetter(0), sorted(((t, len(v)) for t, v in entries_by_vehicle.items()), key=op.itemgetter(1), reverse=True)))\n",
    "route_ids = {e.route for e in entries}\n",
    "\n",
    "trips_220 = list(map(op.itemgetter(0), sorted(((t, len(v)) for t, v in entries_220_by_trip.items()), key=op.itemgetter(1), reverse=True)))\n",
    "vehicles_220 = list(map(op.itemgetter(0), sorted(((t, len(v)) for t, v in entries_220_by_vehicle.items()), key=op.itemgetter(1), reverse=True)))\n"
   ]
  },
  {
   "cell_type": "code",
   "execution_count": 16,
   "metadata": {},
   "outputs": [
    {
     "ename": "AttributeError",
     "evalue": "module 'busboy.util.notebooks' has no attribute 'plot_snapshots'",
     "output_type": "error",
     "traceback": [
      "\u001b[0;31m---------------------------------------------------------------------------\u001b[0m",
      "\u001b[0;31mAttributeError\u001b[0m                            Traceback (most recent call last)",
      "\u001b[0;32m<ipython-input-16-139dc55e9aae>\u001b[0m in \u001b[0;36m<module>\u001b[0;34m\u001b[0m\n\u001b[1;32m      1\u001b[0m \u001b[0mroute_entries\u001b[0m \u001b[0;34m=\u001b[0m \u001b[0;34m[\u001b[0m\u001b[0me\u001b[0m \u001b[0;32mfor\u001b[0m \u001b[0me\u001b[0m \u001b[0;32min\u001b[0m \u001b[0mentries\u001b[0m \u001b[0;32mif\u001b[0m \u001b[0me\u001b[0m\u001b[0;34m.\u001b[0m\u001b[0mroute\u001b[0m \u001b[0;34m==\u001b[0m \u001b[0mm\u001b[0m\u001b[0;34m.\u001b[0m\u001b[0mRouteId\u001b[0m\u001b[0;34m(\u001b[0m\u001b[0mraw\u001b[0m\u001b[0;34m=\u001b[0m\u001b[0;34m'7338652709907596009'\u001b[0m\u001b[0;34m)\u001b[0m\u001b[0;34m]\u001b[0m\u001b[0;34m\u001b[0m\u001b[0m\n\u001b[0;32m----> 2\u001b[0;31m \u001b[0mnb\u001b[0m\u001b[0;34m.\u001b[0m\u001b[0mplot_snapshots\u001b[0m\u001b[0;34m(\u001b[0m\u001b[0mthemap\u001b[0m\u001b[0;34m,\u001b[0m \u001b[0mroute_entries\u001b[0m\u001b[0;34m,\u001b[0m \u001b[0;36m0.1\u001b[0m\u001b[0;34m,\u001b[0m \u001b[0;36m4\u001b[0m\u001b[0;34m)\u001b[0m\u001b[0;34m\u001b[0m\u001b[0m\n\u001b[0m",
      "\u001b[0;31mAttributeError\u001b[0m: module 'busboy.util.notebooks' has no attribute 'plot_snapshots'"
     ]
    }
   ],
   "source": [
    "route_entries = [e for e in entries if e.route == m.RouteId(raw='7338652709907596009')]\n",
    "nb.plot_snapshots(themap, route_entries, 0.1, 4)"
   ]
  },
  {
   "cell_type": "code",
   "execution_count": null,
   "metadata": {},
   "outputs": [],
   "source": [
    "vehicles"
   ]
  },
  {
   "cell_type": "code",
   "execution_count": 7,
   "metadata": {},
   "outputs": [
    {
     "data": {
      "text/plain": [
       "[220976,\n",
       " 26726,\n",
       " 26038,\n",
       " 21534,\n",
       " 21131,\n",
       " 17992,\n",
       " 16738,\n",
       " 16096,\n",
       " 16091,\n",
       " 15946,\n",
       " 15163,\n",
       " 15131,\n",
       " 14575,\n",
       " 14553,\n",
       " 14541,\n",
       " 14352,\n",
       " 14184,\n",
       " 13782,\n",
       " 13463,\n",
       " 13104,\n",
       " 12907,\n",
       " 12763,\n",
       " 12712,\n",
       " 12694,\n",
       " 12281,\n",
       " 12255,\n",
       " 12174,\n",
       " 12156,\n",
       " 11917,\n",
       " 11703,\n",
       " 11554,\n",
       " 11238,\n",
       " 11125,\n",
       " 11100,\n",
       " 11021,\n",
       " 10966,\n",
       " 10806,\n",
       " 10792,\n",
       " 10647,\n",
       " 10628,\n",
       " 10408,\n",
       " 10167,\n",
       " 9950,\n",
       " 9513,\n",
       " 9504,\n",
       " 9491,\n",
       " 9270,\n",
       " 9089,\n",
       " 9081,\n",
       " 8997,\n",
       " 8834,\n",
       " 8552,\n",
       " 8546,\n",
       " 8261,\n",
       " 8126,\n",
       " 8105,\n",
       " 8099,\n",
       " 8082,\n",
       " 8024,\n",
       " 7906,\n",
       " 7901,\n",
       " 7665,\n",
       " 7605,\n",
       " 7593,\n",
       " 7586,\n",
       " 7526,\n",
       " 7494,\n",
       " 7467,\n",
       " 7131,\n",
       " 7070,\n",
       " 6970,\n",
       " 6925,\n",
       " 6916,\n",
       " 6890,\n",
       " 6589,\n",
       " 6581,\n",
       " 6482,\n",
       " 6443,\n",
       " 6260,\n",
       " 5933,\n",
       " 5782,\n",
       " 5576,\n",
       " 5355,\n",
       " 5181,\n",
       " 4988,\n",
       " 4913,\n",
       " 4888,\n",
       " 4245,\n",
       " 4234,\n",
       " 4057,\n",
       " 4009,\n",
       " 3844,\n",
       " 3766,\n",
       " 3763,\n",
       " 3616,\n",
       " 3588,\n",
       " 3525,\n",
       " 3448,\n",
       " 3440,\n",
       " 3375,\n",
       " 3162,\n",
       " 3158,\n",
       " 3151,\n",
       " 3017,\n",
       " 2935,\n",
       " 2868,\n",
       " 2801,\n",
       " 2737,\n",
       " 2681,\n",
       " 2660,\n",
       " 2656,\n",
       " 2644,\n",
       " 2603,\n",
       " 2488,\n",
       " 2428,\n",
       " 2389,\n",
       " 2371,\n",
       " 2367,\n",
       " 2363,\n",
       " 2290,\n",
       " 2283,\n",
       " 2253,\n",
       " 2213,\n",
       " 2145,\n",
       " 2138,\n",
       " 2061,\n",
       " 2024,\n",
       " 1939,\n",
       " 1935,\n",
       " 1917,\n",
       " 1911,\n",
       " 1855,\n",
       " 1784,\n",
       " 1725,\n",
       " 1702,\n",
       " 1664,\n",
       " 1657,\n",
       " 1591,\n",
       " 1586,\n",
       " 1520,\n",
       " 1501,\n",
       " 1449,\n",
       " 1346,\n",
       " 1345,\n",
       " 1318,\n",
       " 1291,\n",
       " 1141,\n",
       " 1112,\n",
       " 1105,\n",
       " 1029,\n",
       " 983,\n",
       " 881,\n",
       " 879,\n",
       " 741,\n",
       " 709,\n",
       " 701,\n",
       " 688,\n",
       " 612,\n",
       " 538,\n",
       " 522,\n",
       " 511,\n",
       " 493,\n",
       " 490,\n",
       " 452,\n",
       " 411,\n",
       " 253,\n",
       " 232,\n",
       " 203,\n",
       " 152,\n",
       " 150,\n",
       " 115,\n",
       " 91,\n",
       " 56,\n",
       " 49,\n",
       " 23,\n",
       " 8]"
      ]
     },
     "execution_count": 7,
     "metadata": {},
     "output_type": "execute_result"
    }
   ],
   "source": [
    "[len(entries_by_vehicle[v]) for v in vehicles]"
   ]
  },
  {
   "cell_type": "code",
   "execution_count": 17,
   "metadata": {},
   "outputs": [
    {
     "data": {
      "text/plain": [
       "[(VehicleId(raw=None), 21976),\n",
       " (VehicleId(raw='7338674957838188973'), 9912),\n",
       " (VehicleId(raw='7338674957838188879'), 8714),\n",
       " (VehicleId(raw='7338674957838188927'), 8653),\n",
       " (VehicleId(raw='7338674957838188926'), 8366),\n",
       " (VehicleId(raw='7338674957838189412'), 8316),\n",
       " (VehicleId(raw='7338674957838189204'), 8160),\n",
       " (VehicleId(raw='7338674957838188763'), 7291),\n",
       " (VehicleId(raw='7338674957838189389'), 7289),\n",
       " (VehicleId(raw='7338674957838189370'), 7272),\n",
       " (VehicleId(raw='7338674957838189394'), 7208),\n",
       " (VehicleId(raw='7338674957838189374'), 6264),\n",
       " (VehicleId(raw='7338674957838189398'), 4851),\n",
       " (VehicleId(raw='7338674957838188968'), 3605),\n",
       " (VehicleId(raw='7338674957838188807'), 3055),\n",
       " (VehicleId(raw='7338674957838188917'), 2569),\n",
       " (VehicleId(raw='7338674957838189431'), 2265),\n",
       " (VehicleId(raw='7338674957838188804'), 2064),\n",
       " (VehicleId(raw='7338674957838188805'), 2013),\n",
       " (VehicleId(raw='7338674957838188844'), 1319),\n",
       " (VehicleId(raw='7338674957838188866'), 924),\n",
       " (VehicleId(raw='7338674957838188924'), 437),\n",
       " (VehicleId(raw='7338674957838188760'), 419),\n",
       " (VehicleId(raw='7338674957838189406'), 402),\n",
       " (VehicleId(raw='7338674957838188752'), 314),\n",
       " (VehicleId(raw='7338674957838188928'), 256),\n",
       " (VehicleId(raw='7338674957838189391'), 190),\n",
       " (VehicleId(raw='7338674957838188838'), 19),\n",
       " (VehicleId(raw='7338674957838189385'), 14),\n",
       " (VehicleId(raw='7338674957838188756'), 6),\n",
       " (VehicleId(raw='7338674957838189409'), 4),\n",
       " (VehicleId(raw='7338674957838188762'), 2)]"
      ]
     },
     "execution_count": 17,
     "metadata": {},
     "output_type": "execute_result"
    }
   ],
   "source": [
    "[(v, len(entries_220_by_vehicle[v])) for v in vehicles_220]"
   ]
  },
  {
   "cell_type": "code",
   "execution_count": 11,
   "metadata": {},
   "outputs": [],
   "source": [
    "es = list(islice(sorted(entries_220_by_vehicle[vehicles_220[2]], key=lambda e: e.poll_time), 500, 1000))\n",
    "locations = lambda: ((e.latitude, e.longitude) for e in es)\n",
    "markers = lambda: (lf.Marker(location=(e.latitude, e.longitude), draggable=False, title=e.poll_time.time().isoformat()) for e in es)\n",
    "nb.plot_entries(themap, es, 0.1, 4)"
   ]
  },
  {
   "cell_type": "code",
   "execution_count": 86,
   "metadata": {},
   "outputs": [],
   "source": [
    "line1 = lf.Polyline(locations=list(locations()))\n",
    "themap.map.add_layer(line1)"
   ]
  },
  {
   "cell_type": "code",
   "execution_count": 81,
   "metadata": {},
   "outputs": [],
   "source": [
    "cluster1 = lf.MarkerCluster(markers=list(markers())\n",
    "themap.map.add_layer(cluster1)"
   ]
  },
  {
   "cell_type": "code",
   "execution_count": 88,
   "metadata": {},
   "outputs": [],
   "source": [
    "group1 = lf.LayerGroup()\n",
    "for e in es:\n",
    "    group1.add_layer(lf.Marker(location=(e.latitude, e.longitude), draggable=False, title=e.poll_time.time().isoformat()))\n",
    "themap.map.add_layer(group1)"
   ]
  },
  {
   "cell_type": "code",
   "execution_count": 76,
   "metadata": {},
   "outputs": [],
   "source": [
    "control = lf.LayersControl(base_layers=[], overlays={\"group1\": group1, \"group2\": group2})\n",
    "themap.map.add_control(control)"
   ]
  },
  {
   "cell_type": "code",
   "execution_count": 71,
   "metadata": {},
   "outputs": [],
   "source": [
    "themap.map.remove_control(control)"
   ]
  },
  {
   "cell_type": "code",
   "execution_count": 3,
   "metadata": {
    "scrolled": false
   },
   "outputs": [
    {
     "data": {
      "application/vnd.jupyter.widget-view+json": {
       "model_id": "4a785ea76f4b4ce09da6f9fd74227c35",
       "version_major": 2,
       "version_minor": 0
      },
      "text/plain": [
       "Map(basemap={'url': 'https://{s}.tile.openstreetmap.org/{z}/{x}/{y}.png', 'max_zoom': 19, 'attribution': 'Map …"
      ]
     },
     "metadata": {},
     "output_type": "display_data"
    }
   ],
   "source": [
    "themap = mp.Map()\n",
    "themap.map"
   ]
  },
  {
   "cell_type": "code",
   "execution_count": null,
   "metadata": {},
   "outputs": [],
   "source": []
  }
 ],
 "metadata": {
  "kernelspec": {
   "display_name": "Python 3",
   "language": "python",
   "name": "python3"
  },
  "language_info": {
   "codemirror_mode": {
    "name": "ipython",
    "version": 3
   },
   "file_extension": ".py",
   "mimetype": "text/x-python",
   "name": "python",
   "nbconvert_exporter": "python",
   "pygments_lexer": "ipython3",
   "version": "3.7.0"
  }
 },
 "nbformat": 4,
 "nbformat_minor": 2
}
