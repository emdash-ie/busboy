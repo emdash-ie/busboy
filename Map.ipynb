{
 "cells": [
  {
   "cell_type": "code",
   "execution_count": 19,
   "metadata": {},
   "outputs": [],
   "source": [
    "from ipyleaflet import Map, basemaps, basemap_to_tiles, Marker\n",
    "import ipyleaflet as lf\n",
    "from typing import List\n",
    "\n",
    "import busboy.map.map as bmap\n",
    "import busboy.database as db\n",
    "import datetime as dt\n",
    "import busboy.model as mod\n",
    "\n",
    "m = bmap.default_map()\n",
    "connection = db.default_connection()"
   ]
  },
  {
   "cell_type": "code",
   "execution_count": 20,
   "metadata": {},
   "outputs": [],
   "source": [
    "ts = list(db.trips_on_day(connection, dt.date.fromisoformat(\"2018-11-05\"), \"7338652709907595333\"))"
   ]
  },
  {
   "cell_type": "code",
   "execution_count": 21,
   "metadata": {},
   "outputs": [],
   "source": [
    "trip_points = [db.trip_points(connection, mod.TripId(t)) for t in ts]"
   ]
  },
  {
   "cell_type": "code",
   "execution_count": 22,
   "metadata": {},
   "outputs": [],
   "source": [
    "markers = {tps.id: None for tps in trip_points}\n",
    "active_markers = []\n",
    "\n",
    "def display_trip(tps: db.TripPoints, active_markers) -> List[Marker]:\n",
    "    if markers[tps.id] is None:\n",
    "        markers[tps.id] = bmap.trip_markers(tps)\n",
    "    for mark in active_markers:\n",
    "        m.remove_layer(mark)\n",
    "    for mark in markers[tps.id]:\n",
    "        m.add_layer(mark)\n",
    "    return markers[tps.id]"
   ]
  },
  {
   "cell_type": "code",
   "execution_count": 23,
   "metadata": {},
   "outputs": [
    {
     "data": {
      "application/vnd.jupyter.widget-view+json": {
       "model_id": "21497d8711174dd1a0d324a260964a1a",
       "version_major": 2,
       "version_minor": 0
      },
      "text/plain": [
       "Map(basemap={'url': 'https://{s}.tile.openstreetmap.org/{z}/{x}/{y}.png', 'max_zoom': 19, 'attribution': 'Map …"
      ]
     },
     "metadata": {},
     "output_type": "display_data"
    }
   ],
   "source": [
    "m"
   ]
  },
  {
   "cell_type": "code",
   "execution_count": 11,
   "metadata": {},
   "outputs": [],
   "source": [
    "active_markers = display_trip(trip_points[22], active_markers)"
   ]
  },
  {
   "cell_type": "code",
   "execution_count": 12,
   "metadata": {},
   "outputs": [],
   "source": [
    "rbn = db.routes_by_name()"
   ]
  },
  {
   "cell_type": "code",
   "execution_count": 13,
   "metadata": {},
   "outputs": [
    {
     "data": {
      "text/plain": [
       "Route(id='7338652709907595333', name='220', direction=2, direction_name='', number=220, category=5)"
      ]
     },
     "execution_count": 13,
     "metadata": {},
     "output_type": "execute_result"
    }
   ],
   "source": [
    "rbn.get(\"220\")"
   ]
  },
  {
   "cell_type": "code",
   "execution_count": 18,
   "metadata": {},
   "outputs": [],
   "source": [
    "m.clear_controls()\n",
    "m.clear_layers()"
   ]
  }
 ],
 "metadata": {
  "kernelspec": {
   "display_name": "Python 3",
   "language": "python",
   "name": "python3"
  },
  "language_info": {
   "codemirror_mode": {
    "name": "ipython",
    "version": 3
   },
   "file_extension": ".py",
   "mimetype": "text/x-python",
   "name": "python",
   "nbconvert_exporter": "python",
   "pygments_lexer": "ipython3",
   "version": "3.7.0"
  }
 },
 "nbformat": 4,
 "nbformat_minor": 2
}
