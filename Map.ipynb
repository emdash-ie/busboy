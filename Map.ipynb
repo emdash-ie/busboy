{
 "cells": [
  {
   "cell_type": "code",
   "execution_count": 10,
   "metadata": {},
   "outputs": [],
   "source": [
    "from ipyleaflet import Map, basemaps, basemap_to_tiles, Marker\n",
    "import ipyleaflet as lf\n",
    "from typing import List\n",
    "\n",
    "import busboy.map.map as bmap\n",
    "import busboy.database as db\n",
    "import datetime as dt\n",
    "import busboy.model as mod\n",
    "\n",
    "m = bmap.default_map()\n",
    "connection = db.default_connection()"
   ]
  },
  {
   "cell_type": "code",
   "execution_count": 2,
   "metadata": {},
   "outputs": [],
   "source": [
    "ts = list(db.trips_on_day(connection, dt.date.fromisoformat(\"2018-11-05\")))"
   ]
  },
  {
   "cell_type": "code",
   "execution_count": 3,
   "metadata": {},
   "outputs": [],
   "source": [
    "trip_points = [db.trip_points(connection, mod.TripId(t)) for t in ts]"
   ]
  },
  {
   "cell_type": "code",
   "execution_count": 11,
   "metadata": {},
   "outputs": [],
   "source": [
    "markers = {tps.id: None for tps in trip_points}\n",
    "active_markers = []\n",
    "\n",
    "def display_trip(tps: db.TripPoints, active_markers) -> List[Marker]:\n",
    "    if markers[tps.id] is None:\n",
    "        markers[tps.id] = bmap.trip_markers(tps)\n",
    "    for mark in active_markers:\n",
    "        m.remove_layer(mark)\n",
    "    for mark in markers[tps.id]:\n",
    "        m.add_layer(mark)\n",
    "    active_markers = markers[tps.id]"
   ]
  },
  {
   "cell_type": "code",
   "execution_count": 5,
   "metadata": {},
   "outputs": [],
   "source": [
    "m.add_control(lf.LayersControl())"
   ]
  },
  {
   "cell_type": "code",
   "execution_count": 6,
   "metadata": {},
   "outputs": [
    {
     "data": {
      "application/vnd.jupyter.widget-view+json": {
       "model_id": "f1991503d4a74fb1adb51ca44401f1f6",
       "version_major": 2,
       "version_minor": 0
      },
      "text/plain": [
       "Map(basemap={'url': 'https://{s}.tile.openstreetmap.org/{z}/{x}/{y}.png', 'max_zoom': 19, 'attribution': 'Map …"
      ]
     },
     "metadata": {},
     "output_type": "display_data"
    }
   ],
   "source": [
    "m"
   ]
  },
  {
   "cell_type": "code",
   "execution_count": 12,
   "metadata": {},
   "outputs": [],
   "source": [
    "active_markers = display_trip(trip_points[1], active_markers)"
   ]
  }
 ],
 "metadata": {
  "kernelspec": {
   "display_name": "Python 3",
   "language": "python",
   "name": "python3"
  },
  "language_info": {
   "codemirror_mode": {
    "name": "ipython",
    "version": 3
   },
   "file_extension": ".py",
   "mimetype": "text/x-python",
   "name": "python",
   "nbconvert_exporter": "python",
   "pygments_lexer": "ipython3",
   "version": "3.7.0"
  }
 },
 "nbformat": 4,
 "nbformat_minor": 2
}
